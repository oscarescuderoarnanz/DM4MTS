{
 "cells": [
  {
   "cell_type": "markdown",
   "metadata": {},
   "source": [
    "# Dynamic Time Warping"
   ]
  },
  {
   "cell_type": "code",
   "execution_count": null,
   "metadata": {},
   "outputs": [],
   "source": [
    "from dtaidistance import dtw_ndim\n",
    "import numpy as np\n",
    "import time\n",
    "import scipy.io as sio\n",
    "import pandas as pd\n",
    "\n",
    "from dtaidistance import dtw"
   ]
  },
  {
   "cell_type": "markdown",
   "metadata": {},
   "source": [
    "* Data are common to all experiments.\n",
    "* Normalized subsets with min-max."
   ]
  },
  {
   "cell_type": "markdown",
   "metadata": {},
   "source": [
    "## min-max"
   ]
  },
  {
   "cell_type": "code",
   "execution_count": null,
   "metadata": {
    "scrolled": true
   },
   "outputs": [],
   "source": [
    "folders = [\"S1\", \"S2\", \"S3\", \"S4\", \"S5\"]\n",
    "\n",
    "for index in range(len(folders)):\n",
    "    \n",
    "    print(\"============ Folder \" + folders[index] + \" ===========\")\n",
    "    \n",
    "    start_time = time.time()\n",
    "    X_train = np.load('../df_to_load/DataToPaperAndTFM_Mod1/types_of_norms/Subconjuntos_3D_norm_minmax/' + folders[index] + '/X_train_tensor.npy')\n",
    "    X_test = np.load('../df_to_load/DataToPaperAndTFM_Mod1/types_of_norms/Subconjuntos_3D_norm_minmax/' + folders[index] + '/X_test_tensor.npy')\n",
    "\n",
    "    print(\"X_train normalized with MinMax\")\n",
    "    print(X_train.shape)\n",
    "\n",
    "    # Initialize the DTW matrix for training data\n",
    "    dtw_matrix = np.zeros((len(X_train), len(X_train)))\n",
    "    \n",
    "    for i in range(len(X_train)):\n",
    "        for j in range(len(X_train)):\n",
    "            pat1 = X_train[i]\n",
    "            pat2 = X_train[j]\n",
    "            dtw_i = 0\n",
    "            for dim in range(pat1.shape[1]):  # Loop through each dimension of the time series\n",
    "                dtw_i += dtw.distance(pat1[:, dim], pat2[:, dim])  # Compute DTW distance for each dimension\n",
    "            dtw_matrix[i, j] = dtw_i\n",
    "    \n",
    "    # Save the DTW matrix for training data\n",
    "    pd.DataFrame(dtw_matrix).to_csv(\"./data_generated_by_dtw/DTW_I/\" + folders[index] + \"/X_train.csv\", index=False)\n",
    "    end_time = time.time()\n",
    "    \n",
    "    print(\"Dimensions of X_train_DTW: \", dtw_matrix.shape)\n",
    "    print(\"Elapsed time: \", end_time - start_time)\n",
    "    \n",
    "    # Now processing test data\n",
    "    start_time = time.time()\n",
    "    print(X_test.shape)\n",
    "    print(\"X_test normalized with MinMax\")\n",
    "    \n",
    "    # Initialize the DTW matrix for test data\n",
    "    dtw_matrix = np.zeros((len(X_test), len(X_train)))\n",
    "    \n",
    "    for i in range(len(X_test)):\n",
    "        for j in range(len(X_train)):\n",
    "            pat1 = X_test[i]\n",
    "            pat2 = X_train[j]\n",
    "            dtw_i = 0\n",
    "            for dim in range(pat1.shape[1]):\n",
    "                dtw_i += dtw.distance(pat1[:, dim], pat2[:, dim])  # Compute DTW distance between test and train samples\n",
    "            dtw_matrix[i, j] = dtw_i\n",
    "    \n",
    "    # Save the DTW matrix for test data\n",
    "    pd.DataFrame(dtw_matrix).to_csv(\"./data_generated_by_dtw/DTW_I/\" + folders[index] + \"/X_test.csv\", index=False)   \n",
    "    end_time = time.time()\n",
    "    \n",
    "    print(\"Dimensions of X_test_DTW: \", dtw_matrix.shape)\n",
    "    print(\"Elapsed time: \", end_time - start_time)"
   ]
  }
 ],
 "metadata": {
  "kernelspec": {
   "display_name": "Python 3 (ipykernel)",
   "language": "python",
   "name": "python3"
  },
  "language_info": {
   "codemirror_mode": {
    "name": "ipython",
    "version": 3
   },
   "file_extension": ".py",
   "mimetype": "text/x-python",
   "name": "python",
   "nbconvert_exporter": "python",
   "pygments_lexer": "ipython3",
   "version": "3.11.4"
  }
 },
 "nbformat": 4,
 "nbformat_minor": 4
}
