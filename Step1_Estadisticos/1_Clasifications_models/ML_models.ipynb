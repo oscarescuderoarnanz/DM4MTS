{
 "cells": [
  {
   "cell_type": "code",
   "execution_count": null,
   "metadata": {
    "scrolled": true
   },
   "outputs": [],
   "source": [
    "import scipy.io as sio\n",
    "import pandas as pd\n",
    "import numpy as np\n",
    "\n",
    "import warnings\n",
    "warnings.filterwarnings(\"ignore\")\n",
    "\n",
    "import sys\n",
    "sys.path.insert(0, '../../Libraries_Paper/')\n",
    "import models"
   ]
  },
  {
   "cell_type": "code",
   "execution_count": null,
   "metadata": {},
   "outputs": [],
   "source": [
    "def saveData(results_ttl, name):\n",
    "    print(list(results_ttl.keys()))\n",
    "    values = list(results_ttl.values())\n",
    "    arr = []\n",
    "    for i in range(len(values)):\n",
    "        for j in range(len(values[i])):\n",
    "            arr.append(values[i][j])\n",
    "\n",
    "    df_results_ttl_AE = pd.DataFrame(arr)\n",
    "    df_results_ttl_AE.to_excel(name)"
   ]
  },
  {
   "cell_type": "code",
   "execution_count": null,
   "metadata": {},
   "outputs": [],
   "source": [
    "def getResults(data, method1):\n",
    "    \n",
    "    results_ttl_05 = {}\n",
    "    results_ttl_train = {}\n",
    "        \n",
    "    folders = [\"S1\", \"S2\", \"S3\", \"S4\", \"S5\"]\n",
    "    \n",
    "    params_function = {'data': data,\n",
    "                       'plotROC_AUC_train': False,\n",
    "                       'plotROC_AUC_test': False,\n",
    "                       'plotConfussionMatrix':False,\n",
    "                       'debug':True,\n",
    "                       'method1':method1,\n",
    "                       'method2':\"\",\n",
    "                       'fussionDataON':False,\n",
    "                       'changecostfunction':False,\n",
    "                       'printResultsbyThreshold': False,\n",
    "                       'printThresholdTrainAnd05': True}\n",
    "    \n",
    "    # Logistic regression\n",
    "    C = [.0000001, .000001, .00001, .0001, 0.001, 0.005, 0.01, 0.05, 0.1, 0.5, .75, 1, 3, 5, 8, 10 ,12, 15]\n",
    "    params = {'C': C}\n",
    "\n",
    "    resultsLR = models.LR(params, folders, params_function)\n",
    "    results_ttl_05['LR'] = resultsLR[[0,1,7], :]\n",
    "    results_ttl_train['LR'] = resultsLR[[8,9,15], :]\n",
    "\n",
    "    print()\n",
    "    print(\"==============================================================================================================\")\n",
    "    print()\n",
    "\n",
    "    # RandomForest\n",
    "    max_depth = np.arange(10, 42, 4)\n",
    "    min_samples_leaf = np.array([2, 4, 9,  13,  17,  22,  43])\n",
    "    n_estimators = np.array([30, 50, 100, 200, 400, 600])\n",
    "\n",
    "    params = {'max_depth': max_depth,\n",
    "             'min_samples_leaf': min_samples_leaf,\n",
    "             'n_estimators': n_estimators}\n",
    "\n",
    "    resultsRF = models.randomForest(params, folders, params_function)\n",
    "    results_ttl_05['RF'] = resultsRF[[0,1,7], :]\n",
    "    results_ttl_train['RF'] = resultsRF[[8,9,15], :]\n",
    "\n",
    "    print()\n",
    "    print(\"==============================================================================================================\")\n",
    "    print()\n",
    "\n",
    "    #NU-SVM\n",
    "    nu = [0.0001, 0.001, 0.005, 0.01, 0.05, 0.1, 0.5, 0.75, 0.9]\n",
    "    gamma = [1e-8, 1e-7, 1e-6, .00001, .0001, .001, .01, .05, .1, 1]\n",
    "    params = {'nu': nu, 'gamma': gamma, 'kernel': 'rbf'}\n",
    "\n",
    "    resultsnuSVM = models.nuSVM(params, folders, params_function)\n",
    "    results_ttl_05['nuSVM'] = resultsnuSVM[[0,1,7], :]\n",
    "    results_ttl_train['nuSVM'] = resultsnuSVM[[8,9,15], :]\n",
    "    \n",
    "    print()\n",
    "    print(\"==============================================================================================================\")\n",
    "    print()\n",
    "    \n",
    "    \n",
    "    return results_ttl_05, results_ttl_train"
   ]
  },
  {
   "cell_type": "markdown",
   "metadata": {},
   "source": [
    "# AE"
   ]
  },
  {
   "cell_type": "code",
   "execution_count": null,
   "metadata": {},
   "outputs": [],
   "source": [
    "results_ttl_AE_05_1, results_ttl_AE_train_1 = getResults(\"FE\", \"AE\")\n",
    "saveData(results_ttl_AE_05_1, '../../Step3_plotResults/Estadisticos/FE/resultados_AE_05.xlsx')\n",
    "saveData(results_ttl_AE_train_1, '../../Step3_plotResults/Estadisticos/FE/resultados_AE_train.xlsx')"
   ]
  },
  {
   "cell_type": "code",
   "execution_count": null,
   "metadata": {},
   "outputs": [],
   "source": [
    "results_ttl_AE_05_2, results_ttl_AE_train_2 = getResults(\"FE_kernel\", \"AE\")\n",
    "saveData(results_ttl_AE_05_2, '../../Step3_plotResults/Estadisticos/FE_kernel/resultados_AE_05.xlsx')\n",
    "saveData(results_ttl_AE_train_2, '../../Step3_plotResults/Estadisticos/FE_kernel/resultados_AE_train.xlsx')"
   ]
  },
  {
   "cell_type": "markdown",
   "metadata": {},
   "source": [
    "# DAE"
   ]
  },
  {
   "cell_type": "code",
   "execution_count": null,
   "metadata": {},
   "outputs": [],
   "source": [
    "results_ttl_DAE_05_1, results_ttl_DAE_train_1 = getResults(\"FE\", \"DAE\")\n",
    "saveData(results_ttl_DAE_05_1, '../../Step3_plotResults/Estadisticos/FE/resultados_DAE_05.xlsx')\n",
    "saveData(results_ttl_DAE_train_1, '../../Step3_plotResults/Estadisticos/FE/resultados_DAE_train.xlsx')"
   ]
  },
  {
   "cell_type": "code",
   "execution_count": null,
   "metadata": {},
   "outputs": [],
   "source": [
    "results_ttl_DAE_05_2, results_ttl_DAE_train_2 = getResults(\"FE_kernel\", \"DAE\")\n",
    "saveData(results_ttl_DAE_05_2, '../../Step3_plotResults/Estadisticos/FE_kernel/resultados_DAE_05.xlsx')\n",
    "saveData(results_ttl_DAE_train_2, '../../Step3_plotResults/Estadisticos/FE_kernel/resultados_DAE_train.xlsx')"
   ]
  },
  {
   "cell_type": "markdown",
   "metadata": {},
   "source": [
    "# PCA"
   ]
  },
  {
   "cell_type": "code",
   "execution_count": null,
   "metadata": {
    "scrolled": true
   },
   "outputs": [],
   "source": [
    "results_ttl_PCA_05_1, results_ttl_PCA_train_1 = getResults(\"FE\", \"PCA\")\n",
    "saveData(results_ttl_PCA_05_1, '../../Step3_plotResults/Estadisticos/FE/resultados_PCA_05.xlsx')\n",
    "saveData(results_ttl_PCA_train_1, '../../Step3_plotResults/Estadisticos/FE/resultados_PCA_train.xlsx')"
   ]
  },
  {
   "cell_type": "code",
   "execution_count": null,
   "metadata": {},
   "outputs": [],
   "source": [
    "results_ttl_PCA_05_2, results_ttl_PCA_train_2 = getResults(\"FE_kernel\", \"PCA\")\n",
    "saveData(results_ttl_PCA_05_2, '../../Step3_plotResults/Estadisticos/FE_kernel/resultados_PCA_05.xlsx')\n",
    "saveData(results_ttl_PCA_train_2, '../../Step3_plotResults/Estadisticos/FE_kernel/resultados_PCA_train.xlsx')"
   ]
  },
  {
   "cell_type": "markdown",
   "metadata": {},
   "source": [
    "# KPCA"
   ]
  },
  {
   "cell_type": "code",
   "execution_count": null,
   "metadata": {
    "scrolled": true
   },
   "outputs": [],
   "source": [
    "results_ttl_KPCA_05_1, results_ttl_KPCA_train_1 = getResults(\"FE\", \"KPCA\")\n",
    "saveData(results_ttl_KPCA_05_1, '../../Step3_plotResults/Estadisticos/FE/resultados_KPCA_05.xlsx')\n",
    "saveData(results_ttl_KPCA_train_1, '../../Step3_plotResults/Estadisticos/FE/resultados_KPCA_train.xlsx')"
   ]
  },
  {
   "cell_type": "code",
   "execution_count": null,
   "metadata": {},
   "outputs": [],
   "source": [
    "results_ttl_KPCA_05_2, results_ttl_KPCA_train_2 = getResults(\"FE_kernel\", \"KPCA\")\n",
    "saveData(results_ttl_KPCA_05_2, '../../Step3_plotResults/Estadisticos/FE_kernel/resultados_KPCA_05.xlsx')\n",
    "saveData(results_ttl_KPCA_train_2, '../../Step3_plotResults/Estadisticos/FE_kernel/resultados_KPCA_train.xlsx')"
   ]
  },
  {
   "cell_type": "markdown",
   "metadata": {},
   "source": [
    "# ALL"
   ]
  },
  {
   "cell_type": "code",
   "execution_count": null,
   "metadata": {},
   "outputs": [],
   "source": [
    "results_ttl_ALL_05_1, results_ttl_ALL_train_1 = getResults(\"FE\", \"ALL\")\n",
    "saveData(results_ttl_ALL_05_1, '../../Step3_plotResults/Estadisticos/FE/resultados_05_all.xlsx')\n",
    "saveData(results_ttl_ALL_train_1, '../../Step3_plotResults/Estadisticos/FE/resultados_train_all.xlsx')"
   ]
  },
  {
   "cell_type": "code",
   "execution_count": null,
   "metadata": {},
   "outputs": [],
   "source": [
    "results_ttl_ALL_05_2, results_ttl_ALL_train_2 = getResults(\"FE_kernel\", \"ALL\")\n",
    "# saveData(results_ttl_ALL_05_2, '../../Step3_plotResults/Estadisticos/FE_kernel/resultados_05_all.xlsx')\n",
    "# saveData(results_ttl_ALL_train_2, '../../Step3_plotResults/Estadisticos/FE_kernel/resultados_train_all.xlsx')"
   ]
  }
 ],
 "metadata": {
  "kernelspec": {
   "display_name": "Python 3 (ipykernel)",
   "language": "python",
   "name": "python3"
  },
  "language_info": {
   "codemirror_mode": {
    "name": "ipython",
    "version": 3
   },
   "file_extension": ".py",
   "mimetype": "text/x-python",
   "name": "python",
   "nbconvert_exporter": "python",
   "pygments_lexer": "ipython3",
   "version": "3.11.4"
  }
 },
 "nbformat": 4,
 "nbformat_minor": 4
}
